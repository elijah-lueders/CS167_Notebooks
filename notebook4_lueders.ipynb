{
  "nbformat": 4,
  "nbformat_minor": 0,
  "metadata": {
    "colab": {
      "provenance": [],
      "include_colab_link": true
    },
    "kernelspec": {
      "name": "python3",
      "display_name": "Python 3"
    },
    "language_info": {
      "name": "python"
    }
  },
  "cells": [
    {
      "cell_type": "markdown",
      "metadata": {
        "id": "view-in-github",
        "colab_type": "text"
      },
      "source": [
        "<a href=\"https://colab.research.google.com/github/elijah-lueders/CS167_Notebooks/blob/main/notebook4_lueders.ipynb\" target=\"_parent\"><img src=\"https://colab.research.google.com/assets/colab-badge.svg\" alt=\"Open In Colab\"/></a>"
      ]
    },
    {
      "cell_type": "markdown",
      "metadata": {
        "id": "G04Rsb8TOYv1"
      },
      "source": [
        "# Notebook \\#4\n",
        "\n",
        "**Part 1: [3 points]** You must run at least 6 variations of the algorithms and display their results using an __appropriate regression metric__ (again, use the scikit-learn modules). I will be looking for the following to be included in your comparison:\n",
        "\n",
        "* **weighted k-Nearest-Neighbor** with a **small value of k** (the same one you used for the unweighted version)\n",
        "* **weighted k-Nearest-Neighbor** with a **large value of k **(the same one you used for the unweighted version)\n",
        "* a **decision tree** with default parameter values\n",
        "* a **decision tree**, setting some kind of parameter that results in a smaller tree \n",
        "* a **Random Forest**, with default parameter values\n",
        "* a **Random Forest**, with a **change to the number of trees** used.\n",
        "\n",
        "You will need to use the documentation for sklearn for this Notebook. Here are some helpful links:\n",
        "* [K Neighbors Regressor](https://scikit-learn.org/stable/modules/generated/sklearn.neighbors.KNeighborsRegressor.html)\n",
        "* [Decision Tree Regressor](https://scikit-learn.org/stable/modules/generated/sklearn.tree.DecisionTreeRegressor.html) \n"
      ]
    },
    {
      "cell_type": "code",
      "metadata": {
        "id": "fWJ8-XD8OzPx",
        "outputId": "d03639e9-590d-4461-f367-aeb007e4c36f",
        "colab": {
          "base_uri": "https://localhost:8080/",
          "height": 492
        }
      },
      "source": [
        "# load in the data and necessary libraries\n",
        "import sklearn\n",
        "import pandas\n",
        "from sklearn import tree\n",
        "from sklearn.model_selection import train_test_split\n",
        "from sklearn import metrics\n",
        "from sklearn import neighbors\n",
        "from sklearn.preprocessing import StandardScaler\n",
        "\n",
        "from google.colab import drive\n",
        "drive.mount('/content/drive')\n",
        "songs = pandas.read_csv('/content/drive/MyDrive/CS167/datasets/spotify.csv') # change this to match your dataset directory\n",
        "songs.head()"
      ],
      "execution_count": null,
      "outputs": [
        {
          "output_type": "stream",
          "name": "stdout",
          "text": [
            "Drive already mounted at /content/drive; to attempt to forcibly remount, call drive.mount(\"/content/drive\", force_remount=True).\n"
          ]
        },
        {
          "output_type": "stream",
          "name": "stderr",
          "text": [
            "/usr/local/lib/python3.8/dist-packages/IPython/core/interactiveshell.py:3326: DtypeWarning: Columns (19) have mixed types.Specify dtype option on import or set low_memory=False.\n",
            "  exec(code_obj, self.user_global_ns, self.user_ns)\n"
          ]
        },
        {
          "output_type": "execute_result",
          "data": {
            "text/plain": [
              "   danceability  energy  key  loudness  mode  speechiness  acousticness  \\\n",
              "0         0.831   0.814    2    -7.364     1       0.4200        0.0598   \n",
              "1         0.719   0.493    8    -7.230     1       0.0794        0.4010   \n",
              "2         0.850   0.893    5    -4.783     1       0.0623        0.0138   \n",
              "3         0.476   0.781    0    -4.710     1       0.1030        0.0237   \n",
              "4         0.798   0.624    2    -7.668     1       0.2930        0.2170   \n",
              "\n",
              "   instrumentalness  liveness  valence  ...                      id  \\\n",
              "0          0.013400    0.0556   0.3890  ...  2Vc6NJ9PW9gD9q343XFRKx   \n",
              "1          0.000000    0.1180   0.1240  ...  7pgJBLVz5VmnL7uGHmRj6p   \n",
              "2          0.000004    0.3720   0.0391  ...  0vSWgAlfpye0WCGeNmuNhy   \n",
              "3          0.000000    0.1140   0.1750  ...  0VSXnJqQkwuH2ei1nOQ1nu   \n",
              "4          0.000000    0.1660   0.5910  ...  4jCeguq9rMTlbMmPHuO7S3   \n",
              "\n",
              "                                    uri  \\\n",
              "0  spotify:track:2Vc6NJ9PW9gD9q343XFRKx   \n",
              "1  spotify:track:7pgJBLVz5VmnL7uGHmRj6p   \n",
              "2  spotify:track:0vSWgAlfpye0WCGeNmuNhy   \n",
              "3  spotify:track:0VSXnJqQkwuH2ei1nOQ1nu   \n",
              "4  spotify:track:4jCeguq9rMTlbMmPHuO7S3   \n",
              "\n",
              "                                          track_href  \\\n",
              "0  https://api.spotify.com/v1/tracks/2Vc6NJ9PW9gD...   \n",
              "1  https://api.spotify.com/v1/tracks/7pgJBLVz5Vmn...   \n",
              "2  https://api.spotify.com/v1/tracks/0vSWgAlfpye0...   \n",
              "3  https://api.spotify.com/v1/tracks/0VSXnJqQkwuH...   \n",
              "4  https://api.spotify.com/v1/tracks/4jCeguq9rMTl...   \n",
              "\n",
              "                                        analysis_url duration_ms  \\\n",
              "0  https://api.spotify.com/v1/audio-analysis/2Vc6...      124539   \n",
              "1  https://api.spotify.com/v1/audio-analysis/7pgJ...      224427   \n",
              "2  https://api.spotify.com/v1/audio-analysis/0vSW...       98821   \n",
              "3  https://api.spotify.com/v1/audio-analysis/0VSX...      123661   \n",
              "4  https://api.spotify.com/v1/audio-analysis/4jCe...      123298   \n",
              "\n",
              "  time_signature      genre                                      song_name  \\\n",
              "0              4  Dark Trap                            Mercury: Retrograde   \n",
              "1              4  Dark Trap                                      Pathology   \n",
              "2              4  Dark Trap                                       Symbiote   \n",
              "3              3  Dark Trap  ProductOfDrugs (Prod. The Virus and Antidote)   \n",
              "4              4  Dark Trap                                          Venom   \n",
              "\n",
              "  Unnamed: 0 title  \n",
              "0        NaN   NaN  \n",
              "1        NaN   NaN  \n",
              "2        NaN   NaN  \n",
              "3        NaN   NaN  \n",
              "4        NaN   NaN  \n",
              "\n",
              "[5 rows x 22 columns]"
            ],
            "text/html": [
              "\n",
              "  <div id=\"df-dfc5ddc6-463f-47e6-af4a-eedea0050603\">\n",
              "    <div class=\"colab-df-container\">\n",
              "      <div>\n",
              "<style scoped>\n",
              "    .dataframe tbody tr th:only-of-type {\n",
              "        vertical-align: middle;\n",
              "    }\n",
              "\n",
              "    .dataframe tbody tr th {\n",
              "        vertical-align: top;\n",
              "    }\n",
              "\n",
              "    .dataframe thead th {\n",
              "        text-align: right;\n",
              "    }\n",
              "</style>\n",
              "<table border=\"1\" class=\"dataframe\">\n",
              "  <thead>\n",
              "    <tr style=\"text-align: right;\">\n",
              "      <th></th>\n",
              "      <th>danceability</th>\n",
              "      <th>energy</th>\n",
              "      <th>key</th>\n",
              "      <th>loudness</th>\n",
              "      <th>mode</th>\n",
              "      <th>speechiness</th>\n",
              "      <th>acousticness</th>\n",
              "      <th>instrumentalness</th>\n",
              "      <th>liveness</th>\n",
              "      <th>valence</th>\n",
              "      <th>...</th>\n",
              "      <th>id</th>\n",
              "      <th>uri</th>\n",
              "      <th>track_href</th>\n",
              "      <th>analysis_url</th>\n",
              "      <th>duration_ms</th>\n",
              "      <th>time_signature</th>\n",
              "      <th>genre</th>\n",
              "      <th>song_name</th>\n",
              "      <th>Unnamed: 0</th>\n",
              "      <th>title</th>\n",
              "    </tr>\n",
              "  </thead>\n",
              "  <tbody>\n",
              "    <tr>\n",
              "      <th>0</th>\n",
              "      <td>0.831</td>\n",
              "      <td>0.814</td>\n",
              "      <td>2</td>\n",
              "      <td>-7.364</td>\n",
              "      <td>1</td>\n",
              "      <td>0.4200</td>\n",
              "      <td>0.0598</td>\n",
              "      <td>0.013400</td>\n",
              "      <td>0.0556</td>\n",
              "      <td>0.3890</td>\n",
              "      <td>...</td>\n",
              "      <td>2Vc6NJ9PW9gD9q343XFRKx</td>\n",
              "      <td>spotify:track:2Vc6NJ9PW9gD9q343XFRKx</td>\n",
              "      <td>https://api.spotify.com/v1/tracks/2Vc6NJ9PW9gD...</td>\n",
              "      <td>https://api.spotify.com/v1/audio-analysis/2Vc6...</td>\n",
              "      <td>124539</td>\n",
              "      <td>4</td>\n",
              "      <td>Dark Trap</td>\n",
              "      <td>Mercury: Retrograde</td>\n",
              "      <td>NaN</td>\n",
              "      <td>NaN</td>\n",
              "    </tr>\n",
              "    <tr>\n",
              "      <th>1</th>\n",
              "      <td>0.719</td>\n",
              "      <td>0.493</td>\n",
              "      <td>8</td>\n",
              "      <td>-7.230</td>\n",
              "      <td>1</td>\n",
              "      <td>0.0794</td>\n",
              "      <td>0.4010</td>\n",
              "      <td>0.000000</td>\n",
              "      <td>0.1180</td>\n",
              "      <td>0.1240</td>\n",
              "      <td>...</td>\n",
              "      <td>7pgJBLVz5VmnL7uGHmRj6p</td>\n",
              "      <td>spotify:track:7pgJBLVz5VmnL7uGHmRj6p</td>\n",
              "      <td>https://api.spotify.com/v1/tracks/7pgJBLVz5Vmn...</td>\n",
              "      <td>https://api.spotify.com/v1/audio-analysis/7pgJ...</td>\n",
              "      <td>224427</td>\n",
              "      <td>4</td>\n",
              "      <td>Dark Trap</td>\n",
              "      <td>Pathology</td>\n",
              "      <td>NaN</td>\n",
              "      <td>NaN</td>\n",
              "    </tr>\n",
              "    <tr>\n",
              "      <th>2</th>\n",
              "      <td>0.850</td>\n",
              "      <td>0.893</td>\n",
              "      <td>5</td>\n",
              "      <td>-4.783</td>\n",
              "      <td>1</td>\n",
              "      <td>0.0623</td>\n",
              "      <td>0.0138</td>\n",
              "      <td>0.000004</td>\n",
              "      <td>0.3720</td>\n",
              "      <td>0.0391</td>\n",
              "      <td>...</td>\n",
              "      <td>0vSWgAlfpye0WCGeNmuNhy</td>\n",
              "      <td>spotify:track:0vSWgAlfpye0WCGeNmuNhy</td>\n",
              "      <td>https://api.spotify.com/v1/tracks/0vSWgAlfpye0...</td>\n",
              "      <td>https://api.spotify.com/v1/audio-analysis/0vSW...</td>\n",
              "      <td>98821</td>\n",
              "      <td>4</td>\n",
              "      <td>Dark Trap</td>\n",
              "      <td>Symbiote</td>\n",
              "      <td>NaN</td>\n",
              "      <td>NaN</td>\n",
              "    </tr>\n",
              "    <tr>\n",
              "      <th>3</th>\n",
              "      <td>0.476</td>\n",
              "      <td>0.781</td>\n",
              "      <td>0</td>\n",
              "      <td>-4.710</td>\n",
              "      <td>1</td>\n",
              "      <td>0.1030</td>\n",
              "      <td>0.0237</td>\n",
              "      <td>0.000000</td>\n",
              "      <td>0.1140</td>\n",
              "      <td>0.1750</td>\n",
              "      <td>...</td>\n",
              "      <td>0VSXnJqQkwuH2ei1nOQ1nu</td>\n",
              "      <td>spotify:track:0VSXnJqQkwuH2ei1nOQ1nu</td>\n",
              "      <td>https://api.spotify.com/v1/tracks/0VSXnJqQkwuH...</td>\n",
              "      <td>https://api.spotify.com/v1/audio-analysis/0VSX...</td>\n",
              "      <td>123661</td>\n",
              "      <td>3</td>\n",
              "      <td>Dark Trap</td>\n",
              "      <td>ProductOfDrugs (Prod. The Virus and Antidote)</td>\n",
              "      <td>NaN</td>\n",
              "      <td>NaN</td>\n",
              "    </tr>\n",
              "    <tr>\n",
              "      <th>4</th>\n",
              "      <td>0.798</td>\n",
              "      <td>0.624</td>\n",
              "      <td>2</td>\n",
              "      <td>-7.668</td>\n",
              "      <td>1</td>\n",
              "      <td>0.2930</td>\n",
              "      <td>0.2170</td>\n",
              "      <td>0.000000</td>\n",
              "      <td>0.1660</td>\n",
              "      <td>0.5910</td>\n",
              "      <td>...</td>\n",
              "      <td>4jCeguq9rMTlbMmPHuO7S3</td>\n",
              "      <td>spotify:track:4jCeguq9rMTlbMmPHuO7S3</td>\n",
              "      <td>https://api.spotify.com/v1/tracks/4jCeguq9rMTl...</td>\n",
              "      <td>https://api.spotify.com/v1/audio-analysis/4jCe...</td>\n",
              "      <td>123298</td>\n",
              "      <td>4</td>\n",
              "      <td>Dark Trap</td>\n",
              "      <td>Venom</td>\n",
              "      <td>NaN</td>\n",
              "      <td>NaN</td>\n",
              "    </tr>\n",
              "  </tbody>\n",
              "</table>\n",
              "<p>5 rows × 22 columns</p>\n",
              "</div>\n",
              "      <button class=\"colab-df-convert\" onclick=\"convertToInteractive('df-dfc5ddc6-463f-47e6-af4a-eedea0050603')\"\n",
              "              title=\"Convert this dataframe to an interactive table.\"\n",
              "              style=\"display:none;\">\n",
              "        \n",
              "  <svg xmlns=\"http://www.w3.org/2000/svg\" height=\"24px\"viewBox=\"0 0 24 24\"\n",
              "       width=\"24px\">\n",
              "    <path d=\"M0 0h24v24H0V0z\" fill=\"none\"/>\n",
              "    <path d=\"M18.56 5.44l.94 2.06.94-2.06 2.06-.94-2.06-.94-.94-2.06-.94 2.06-2.06.94zm-11 1L8.5 8.5l.94-2.06 2.06-.94-2.06-.94L8.5 2.5l-.94 2.06-2.06.94zm10 10l.94 2.06.94-2.06 2.06-.94-2.06-.94-.94-2.06-.94 2.06-2.06.94z\"/><path d=\"M17.41 7.96l-1.37-1.37c-.4-.4-.92-.59-1.43-.59-.52 0-1.04.2-1.43.59L10.3 9.45l-7.72 7.72c-.78.78-.78 2.05 0 2.83L4 21.41c.39.39.9.59 1.41.59.51 0 1.02-.2 1.41-.59l7.78-7.78 2.81-2.81c.8-.78.8-2.07 0-2.86zM5.41 20L4 18.59l7.72-7.72 1.47 1.35L5.41 20z\"/>\n",
              "  </svg>\n",
              "      </button>\n",
              "      \n",
              "  <style>\n",
              "    .colab-df-container {\n",
              "      display:flex;\n",
              "      flex-wrap:wrap;\n",
              "      gap: 12px;\n",
              "    }\n",
              "\n",
              "    .colab-df-convert {\n",
              "      background-color: #E8F0FE;\n",
              "      border: none;\n",
              "      border-radius: 50%;\n",
              "      cursor: pointer;\n",
              "      display: none;\n",
              "      fill: #1967D2;\n",
              "      height: 32px;\n",
              "      padding: 0 0 0 0;\n",
              "      width: 32px;\n",
              "    }\n",
              "\n",
              "    .colab-df-convert:hover {\n",
              "      background-color: #E2EBFA;\n",
              "      box-shadow: 0px 1px 2px rgba(60, 64, 67, 0.3), 0px 1px 3px 1px rgba(60, 64, 67, 0.15);\n",
              "      fill: #174EA6;\n",
              "    }\n",
              "\n",
              "    [theme=dark] .colab-df-convert {\n",
              "      background-color: #3B4455;\n",
              "      fill: #D2E3FC;\n",
              "    }\n",
              "\n",
              "    [theme=dark] .colab-df-convert:hover {\n",
              "      background-color: #434B5C;\n",
              "      box-shadow: 0px 1px 3px 1px rgba(0, 0, 0, 0.15);\n",
              "      filter: drop-shadow(0px 1px 2px rgba(0, 0, 0, 0.3));\n",
              "      fill: #FFFFFF;\n",
              "    }\n",
              "  </style>\n",
              "\n",
              "      <script>\n",
              "        const buttonEl =\n",
              "          document.querySelector('#df-dfc5ddc6-463f-47e6-af4a-eedea0050603 button.colab-df-convert');\n",
              "        buttonEl.style.display =\n",
              "          google.colab.kernel.accessAllowed ? 'block' : 'none';\n",
              "\n",
              "        async function convertToInteractive(key) {\n",
              "          const element = document.querySelector('#df-dfc5ddc6-463f-47e6-af4a-eedea0050603');\n",
              "          const dataTable =\n",
              "            await google.colab.kernel.invokeFunction('convertToInteractive',\n",
              "                                                     [key], {});\n",
              "          if (!dataTable) return;\n",
              "\n",
              "          const docLinkHtml = 'Like what you see? Visit the ' +\n",
              "            '<a target=\"_blank\" href=https://colab.research.google.com/notebooks/data_table.ipynb>data table notebook</a>'\n",
              "            + ' to learn more about interactive tables.';\n",
              "          element.innerHTML = '';\n",
              "          dataTable['output_type'] = 'display_data';\n",
              "          await google.colab.output.renderOutput(dataTable, element);\n",
              "          const docLink = document.createElement('div');\n",
              "          docLink.innerHTML = docLinkHtml;\n",
              "          element.appendChild(docLink);\n",
              "        }\n",
              "      </script>\n",
              "    </div>\n",
              "  </div>\n",
              "  "
            ]
          },
          "metadata": {},
          "execution_count": 298
        }
      ]
    },
    {
      "cell_type": "code",
      "metadata": {
        "id": "exaUcSQxI5FU",
        "outputId": "bb1a2bb5-91c8-43c7-abbf-933ceb153ea1",
        "colab": {
          "base_uri": "https://localhost:8080/",
          "height": 206
        }
      },
      "source": [
        "# Split the data into the training data and testing data\n",
        "# we're only going to use a subset of the columns that are numeric\n",
        "target= 'danceability'\n",
        "predictors = ['energy', 'key', 'loudness','speechiness',\n",
        "       'acousticness', 'instrumentalness', 'liveness', 'valence', 'tempo','duration_ms']\n",
        "train_data, test_data, train_sln, test_sln = train_test_split(songs[predictors], songs[target], test_size = 0.2, random_state=41)\n",
        "train_data.head()"
      ],
      "execution_count": null,
      "outputs": [
        {
          "output_type": "execute_result",
          "data": {
            "text/plain": [
              "       energy  key  loudness  speechiness  acousticness  instrumentalness  \\\n",
              "11181   0.856    1    -3.748       0.4100        0.1500           0.00000   \n",
              "24502   0.956    5    -6.746       0.0563        0.0113           0.87600   \n",
              "18293   0.667    4    -5.191       0.0508        0.5860           0.00000   \n",
              "17867   0.443    6   -10.216       0.0325        0.9040           0.00197   \n",
              "16641   0.585   10    -5.466       0.0332        0.5530           0.00000   \n",
              "\n",
              "       liveness  valence    tempo  duration_ms  \n",
              "11181    0.0573    0.754  160.042       126290  \n",
              "24502    0.1120    0.188  128.006       264666  \n",
              "18293    0.1160    0.385  128.962       241688  \n",
              "17867    0.0718    0.338  187.950       208253  \n",
              "16641    0.1950    0.238  215.168       214884  "
            ],
            "text/html": [
              "\n",
              "  <div id=\"df-d6dec534-1710-4aea-b48c-4e806596c466\">\n",
              "    <div class=\"colab-df-container\">\n",
              "      <div>\n",
              "<style scoped>\n",
              "    .dataframe tbody tr th:only-of-type {\n",
              "        vertical-align: middle;\n",
              "    }\n",
              "\n",
              "    .dataframe tbody tr th {\n",
              "        vertical-align: top;\n",
              "    }\n",
              "\n",
              "    .dataframe thead th {\n",
              "        text-align: right;\n",
              "    }\n",
              "</style>\n",
              "<table border=\"1\" class=\"dataframe\">\n",
              "  <thead>\n",
              "    <tr style=\"text-align: right;\">\n",
              "      <th></th>\n",
              "      <th>energy</th>\n",
              "      <th>key</th>\n",
              "      <th>loudness</th>\n",
              "      <th>speechiness</th>\n",
              "      <th>acousticness</th>\n",
              "      <th>instrumentalness</th>\n",
              "      <th>liveness</th>\n",
              "      <th>valence</th>\n",
              "      <th>tempo</th>\n",
              "      <th>duration_ms</th>\n",
              "    </tr>\n",
              "  </thead>\n",
              "  <tbody>\n",
              "    <tr>\n",
              "      <th>11181</th>\n",
              "      <td>0.856</td>\n",
              "      <td>1</td>\n",
              "      <td>-3.748</td>\n",
              "      <td>0.4100</td>\n",
              "      <td>0.1500</td>\n",
              "      <td>0.00000</td>\n",
              "      <td>0.0573</td>\n",
              "      <td>0.754</td>\n",
              "      <td>160.042</td>\n",
              "      <td>126290</td>\n",
              "    </tr>\n",
              "    <tr>\n",
              "      <th>24502</th>\n",
              "      <td>0.956</td>\n",
              "      <td>5</td>\n",
              "      <td>-6.746</td>\n",
              "      <td>0.0563</td>\n",
              "      <td>0.0113</td>\n",
              "      <td>0.87600</td>\n",
              "      <td>0.1120</td>\n",
              "      <td>0.188</td>\n",
              "      <td>128.006</td>\n",
              "      <td>264666</td>\n",
              "    </tr>\n",
              "    <tr>\n",
              "      <th>18293</th>\n",
              "      <td>0.667</td>\n",
              "      <td>4</td>\n",
              "      <td>-5.191</td>\n",
              "      <td>0.0508</td>\n",
              "      <td>0.5860</td>\n",
              "      <td>0.00000</td>\n",
              "      <td>0.1160</td>\n",
              "      <td>0.385</td>\n",
              "      <td>128.962</td>\n",
              "      <td>241688</td>\n",
              "    </tr>\n",
              "    <tr>\n",
              "      <th>17867</th>\n",
              "      <td>0.443</td>\n",
              "      <td>6</td>\n",
              "      <td>-10.216</td>\n",
              "      <td>0.0325</td>\n",
              "      <td>0.9040</td>\n",
              "      <td>0.00197</td>\n",
              "      <td>0.0718</td>\n",
              "      <td>0.338</td>\n",
              "      <td>187.950</td>\n",
              "      <td>208253</td>\n",
              "    </tr>\n",
              "    <tr>\n",
              "      <th>16641</th>\n",
              "      <td>0.585</td>\n",
              "      <td>10</td>\n",
              "      <td>-5.466</td>\n",
              "      <td>0.0332</td>\n",
              "      <td>0.5530</td>\n",
              "      <td>0.00000</td>\n",
              "      <td>0.1950</td>\n",
              "      <td>0.238</td>\n",
              "      <td>215.168</td>\n",
              "      <td>214884</td>\n",
              "    </tr>\n",
              "  </tbody>\n",
              "</table>\n",
              "</div>\n",
              "      <button class=\"colab-df-convert\" onclick=\"convertToInteractive('df-d6dec534-1710-4aea-b48c-4e806596c466')\"\n",
              "              title=\"Convert this dataframe to an interactive table.\"\n",
              "              style=\"display:none;\">\n",
              "        \n",
              "  <svg xmlns=\"http://www.w3.org/2000/svg\" height=\"24px\"viewBox=\"0 0 24 24\"\n",
              "       width=\"24px\">\n",
              "    <path d=\"M0 0h24v24H0V0z\" fill=\"none\"/>\n",
              "    <path d=\"M18.56 5.44l.94 2.06.94-2.06 2.06-.94-2.06-.94-.94-2.06-.94 2.06-2.06.94zm-11 1L8.5 8.5l.94-2.06 2.06-.94-2.06-.94L8.5 2.5l-.94 2.06-2.06.94zm10 10l.94 2.06.94-2.06 2.06-.94-2.06-.94-.94-2.06-.94 2.06-2.06.94z\"/><path d=\"M17.41 7.96l-1.37-1.37c-.4-.4-.92-.59-1.43-.59-.52 0-1.04.2-1.43.59L10.3 9.45l-7.72 7.72c-.78.78-.78 2.05 0 2.83L4 21.41c.39.39.9.59 1.41.59.51 0 1.02-.2 1.41-.59l7.78-7.78 2.81-2.81c.8-.78.8-2.07 0-2.86zM5.41 20L4 18.59l7.72-7.72 1.47 1.35L5.41 20z\"/>\n",
              "  </svg>\n",
              "      </button>\n",
              "      \n",
              "  <style>\n",
              "    .colab-df-container {\n",
              "      display:flex;\n",
              "      flex-wrap:wrap;\n",
              "      gap: 12px;\n",
              "    }\n",
              "\n",
              "    .colab-df-convert {\n",
              "      background-color: #E8F0FE;\n",
              "      border: none;\n",
              "      border-radius: 50%;\n",
              "      cursor: pointer;\n",
              "      display: none;\n",
              "      fill: #1967D2;\n",
              "      height: 32px;\n",
              "      padding: 0 0 0 0;\n",
              "      width: 32px;\n",
              "    }\n",
              "\n",
              "    .colab-df-convert:hover {\n",
              "      background-color: #E2EBFA;\n",
              "      box-shadow: 0px 1px 2px rgba(60, 64, 67, 0.3), 0px 1px 3px 1px rgba(60, 64, 67, 0.15);\n",
              "      fill: #174EA6;\n",
              "    }\n",
              "\n",
              "    [theme=dark] .colab-df-convert {\n",
              "      background-color: #3B4455;\n",
              "      fill: #D2E3FC;\n",
              "    }\n",
              "\n",
              "    [theme=dark] .colab-df-convert:hover {\n",
              "      background-color: #434B5C;\n",
              "      box-shadow: 0px 1px 3px 1px rgba(0, 0, 0, 0.15);\n",
              "      filter: drop-shadow(0px 1px 2px rgba(0, 0, 0, 0.3));\n",
              "      fill: #FFFFFF;\n",
              "    }\n",
              "  </style>\n",
              "\n",
              "      <script>\n",
              "        const buttonEl =\n",
              "          document.querySelector('#df-d6dec534-1710-4aea-b48c-4e806596c466 button.colab-df-convert');\n",
              "        buttonEl.style.display =\n",
              "          google.colab.kernel.accessAllowed ? 'block' : 'none';\n",
              "\n",
              "        async function convertToInteractive(key) {\n",
              "          const element = document.querySelector('#df-d6dec534-1710-4aea-b48c-4e806596c466');\n",
              "          const dataTable =\n",
              "            await google.colab.kernel.invokeFunction('convertToInteractive',\n",
              "                                                     [key], {});\n",
              "          if (!dataTable) return;\n",
              "\n",
              "          const docLinkHtml = 'Like what you see? Visit the ' +\n",
              "            '<a target=\"_blank\" href=https://colab.research.google.com/notebooks/data_table.ipynb>data table notebook</a>'\n",
              "            + ' to learn more about interactive tables.';\n",
              "          element.innerHTML = '';\n",
              "          dataTable['output_type'] = 'display_data';\n",
              "          await google.colab.output.renderOutput(dataTable, element);\n",
              "          const docLink = document.createElement('div');\n",
              "          docLink.innerHTML = docLinkHtml;\n",
              "          element.appendChild(docLink);\n",
              "        }\n",
              "      </script>\n",
              "    </div>\n",
              "  </div>\n",
              "  "
            ]
          },
          "metadata": {},
          "execution_count": 299
        }
      ]
    },
    {
      "cell_type": "code",
      "metadata": {
        "id": "MpuWbT-NOUx8",
        "colab": {
          "base_uri": "https://localhost:8080/"
        },
        "outputId": "e55b80c1-2dfe-47df-b042-4ddf875ac47d"
      },
      "source": [
        "# w-kNN with small k\n",
        "# build \n",
        "sm_knn = neighbors.KNeighborsRegressor(weights='distance')\n",
        "# fit\n",
        "sm_knn.fit(train_data,train_sln)\n",
        "# predict\n",
        "sm_knn_preds = sm_knn.predict(test_data)\n",
        "# r2 error\n",
        "print(\"R2:\", round(metrics.r2_score(test_sln, sm_knn_preds),3))"
      ],
      "execution_count": null,
      "outputs": [
        {
          "output_type": "stream",
          "name": "stdout",
          "text": [
            "R2: 0.163\n"
          ]
        }
      ]
    },
    {
      "cell_type": "code",
      "source": [
        "import math\n",
        "math.sqrt(songs.shape[0])"
      ],
      "metadata": {
        "colab": {
          "base_uri": "https://localhost:8080/"
        },
        "id": "Ru9cOL2f_0Vm",
        "outputId": "a57a856f-364d-4116-c069-7b96870e44ff"
      },
      "execution_count": null,
      "outputs": [
        {
          "output_type": "execute_result",
          "data": {
            "text/plain": [
              "205.6817930688081"
            ]
          },
          "metadata": {},
          "execution_count": 301
        }
      ]
    },
    {
      "cell_type": "code",
      "metadata": {
        "id": "o1q07BzTOjnE",
        "colab": {
          "base_uri": "https://localhost:8080/"
        },
        "outputId": "43980816-1b30-48bd-fc3d-fc67d69289de"
      },
      "source": [
        "# w-kNN with large k\n",
        "# build \n",
        "lg_knn = neighbors.KNeighborsRegressor(n_neighbors=205, weights='distance')\n",
        "# fit\n",
        "lg_knn.fit(train_data,train_sln)\n",
        "# predict\n",
        "lg_knn_preds = lg_knn.predict(test_data)\n",
        "# r2 error\n",
        "print(\"R2:\", round(metrics.r2_score(test_sln, lg_knn_preds),3))"
      ],
      "execution_count": null,
      "outputs": [
        {
          "output_type": "stream",
          "name": "stdout",
          "text": [
            "R2: 0.321\n"
          ]
        }
      ]
    },
    {
      "cell_type": "code",
      "metadata": {
        "id": "S5kncBKlOrhc",
        "colab": {
          "base_uri": "https://localhost:8080/"
        },
        "outputId": "1fb90261-800d-417b-8d18-0ba10bf2c787"
      },
      "source": [
        "# decision tree with default paramters\n",
        "# build \n",
        "dtree = tree.DecisionTreeRegressor()\n",
        "# fit\n",
        "dtree.fit(train_data,train_sln)\n",
        "# predict\n",
        "dtree_preds = dtree.predict(test_data)\n",
        "# r2 error\n",
        "print(\"R2:\", round(metrics.r2_score(test_sln, dtree_preds),3))\n",
        "print(\"Tree depth:\",dtree.get_depth())"
      ],
      "execution_count": null,
      "outputs": [
        {
          "output_type": "stream",
          "name": "stdout",
          "text": [
            "R2: 0.307\n",
            "Tree depth: 44\n"
          ]
        }
      ]
    },
    {
      "cell_type": "code",
      "metadata": {
        "id": "7QDjUeiyOt53",
        "colab": {
          "base_uri": "https://localhost:8080/"
        },
        "outputId": "062ab030-3102-4164-a587-f6e795294a11"
      },
      "source": [
        "# decision tree with some kind of parameter that (hopefully) results in a smaller tree\n",
        "# build \n",
        "sm_dtree = tree.DecisionTreeRegressor(max_depth=9)\n",
        "# fit\n",
        "sm_dtree.fit(train_data,train_sln)\n",
        "# predict\n",
        "sm_dtree_preds = sm_dtree.predict(test_data)\n",
        "# r2 error\n",
        "print(\"R2:\", round(metrics.r2_score(test_sln, sm_dtree_preds),3))\n",
        "print(\"Tree depth:\",sm_dtree.get_depth())"
      ],
      "execution_count": null,
      "outputs": [
        {
          "output_type": "stream",
          "name": "stdout",
          "text": [
            "R2: 0.464\n",
            "Tree depth: 9\n"
          ]
        }
      ]
    },
    {
      "cell_type": "code",
      "source": [
        "from sklearn import ensemble\n",
        "# Random Forest with default parameters\n",
        "# build\n",
        "rand_forest = ensemble.RandomForestRegressor()\n",
        "# fit\n",
        "rand_forest.fit(train_data,train_sln)\n",
        "# predict\n",
        "rand_forest_preds = rand_forest.predict(test_data)\n",
        "print(\"R2:\", round(metrics.r2_score(test_sln, rand_forest_preds),3))"
      ],
      "metadata": {
        "id": "94c7_lokK7Dg",
        "colab": {
          "base_uri": "https://localhost:8080/"
        },
        "outputId": "f8c37671-36b1-4c54-f845-fc634d351fd9"
      },
      "execution_count": null,
      "outputs": [
        {
          "output_type": "stream",
          "name": "stdout",
          "text": [
            "R2: 0.649\n"
          ]
        }
      ]
    },
    {
      "cell_type": "code",
      "source": [
        "# Random Forest with change to the number of trees\n",
        "# build\n",
        "alt_rand_forest = ensemble.RandomForestRegressor(n_estimators=45)\n",
        "# fit\n",
        "alt_rand_forest.fit(train_data,train_sln)\n",
        "# predict\n",
        "alt_rand_forest_preds = alt_rand_forest.predict(test_data)\n",
        "print(\"R2:\", round(metrics.r2_score(test_sln, alt_rand_forest_preds),3))"
      ],
      "metadata": {
        "id": "OCPBb2teLAQm",
        "colab": {
          "base_uri": "https://localhost:8080/"
        },
        "outputId": "fb935981-e490-47a6-e973-58426c5d1fb7"
      },
      "execution_count": null,
      "outputs": [
        {
          "output_type": "stream",
          "name": "stdout",
          "text": [
            "R2: 0.645\n"
          ]
        }
      ]
    },
    {
      "cell_type": "code",
      "source": [],
      "metadata": {
        "id": "cy98uhm4e1Sd"
      },
      "execution_count": null,
      "outputs": []
    },
    {
      "cell_type": "markdown",
      "metadata": {
        "id": "O_1BW2sPPNro"
      },
      "source": [
        "## Part 2: w-kNN on Normalized data\n",
        "**2.)** Normalize the data and run a weighted k-Nearest Neighbors algorithm on it (from sklearn,  not the one we wrote from scratch). You can choose the k value. To Normalize, use the StandardScalar from sklearn."
      ]
    },
    {
      "cell_type": "code",
      "source": [
        "\n"
      ],
      "metadata": {
        "id": "Y93W6BT9FKI3"
      },
      "execution_count": null,
      "outputs": []
    },
    {
      "cell_type": "code",
      "metadata": {
        "id": "Y1-4z4VHOxBt",
        "colab": {
          "base_uri": "https://localhost:8080/"
        },
        "outputId": "0a88872b-79a9-4cdc-9c29-0fa2825b3aca"
      },
      "source": [
        "from pandas import DataFrame\n",
        "# normalize the data\n",
        "\n",
        "# build scaler\n",
        "scaler = StandardScaler()\n",
        "# fit scaler\n",
        "scaler.fit(train_data)\n",
        "# normalize training data\n",
        "norm_train_data = scaler.transform(train_data)\n",
        "norm_train_data = DataFrame(norm_train_data, columns= predictors)\n",
        "# normlize test data\n",
        "norm_test_data = scaler.transform(test_data)\n",
        "norm_test_data = DataFrame(norm_test_data, columns= predictors)\n",
        "\n",
        "\n",
        "# run a w-knn\n",
        "\n",
        "# build \n",
        "norm_knn = neighbors.KNeighborsRegressor(weights='distance')\n",
        "# fit\n",
        "norm_knn.fit(norm_train_data,train_sln)\n",
        "# predict\n",
        "norm_knn_preds = norm_knn.predict(norm_test_data)\n",
        "# r2 error\n",
        "print(\"R2:\", round(metrics.r2_score(test_sln, norm_knn_preds),3))"
      ],
      "execution_count": null,
      "outputs": [
        {
          "output_type": "stream",
          "name": "stdout",
          "text": [
            "R2: 0.56\n"
          ]
        }
      ]
    },
    {
      "cell_type": "code",
      "source": [
        "# Decision Tree with defaults and normalized data\n",
        "# build\n",
        "norm_dtree = tree.DecisionTreeRegressor()\n",
        "# fit\n",
        "norm_dtree.fit(norm_train_data,train_sln)\n",
        "# predict\n",
        "norm_dtree_preds = norm_dtree.predict(norm_test_data)\n",
        "print(\"R2:\", round(metrics.r2_score(test_sln, norm_dtree_preds),3))"
      ],
      "metadata": {
        "colab": {
          "base_uri": "https://localhost:8080/"
        },
        "outputId": "44bf3f53-2f20-41c6-834e-3caca7765efd",
        "id": "jRSJva8NTY-b"
      },
      "execution_count": null,
      "outputs": [
        {
          "output_type": "stream",
          "name": "stdout",
          "text": [
            "R2: 0.315\n"
          ]
        }
      ]
    },
    {
      "cell_type": "code",
      "source": [
        "# Random Forest with defaults and normalized data\n",
        "# build\n",
        "norm_rand_forest = ensemble.RandomForestRegressor()\n",
        "# fit\n",
        "norm_rand_forest.fit(norm_train_data,train_sln)\n",
        "# predict\n",
        "norm_rand_forest_preds = norm_rand_forest.predict(norm_test_data)\n",
        "print(\"R2:\", round(metrics.r2_score(test_sln, norm_rand_forest_preds),3))"
      ],
      "metadata": {
        "colab": {
          "base_uri": "https://localhost:8080/"
        },
        "id": "76wMLRXBNTpv",
        "outputId": "7da43046-a6ff-4879-99f6-6398829ac73c"
      },
      "execution_count": null,
      "outputs": [
        {
          "output_type": "stream",
          "name": "stdout",
          "text": [
            "R2: 0.65\n"
          ]
        }
      ]
    },
    {
      "cell_type": "code",
      "source": [
        "#print all r2 results\n",
        "print(\"Small kNN ........... R2:\", round(metrics.r2_score(test_sln, sm_knn_preds),2))\n",
        "print(\"Large kNN ........... R2:\", round(metrics.r2_score(test_sln, lg_knn_preds),2))\n",
        "print(\"Default dTree ....... R2:\", round(metrics.r2_score(test_sln, dtree_preds),2))\n",
        "print(\"Small dTree ......... R2:\", round(metrics.r2_score(test_sln, sm_dtree_preds),2))\n",
        "print(\"Rand. Forest (100) .. R2:\", round(metrics.r2_score(test_sln, rand_forest_preds),2))\n",
        "print(\"Rand. Forest (50) ... R2:\", round(metrics.r2_score(test_sln, alt_rand_forest_preds),2))\n",
        "print(\"Norm. kNN ........... R2:\", round(metrics.r2_score(test_sln, norm_knn_preds),2))\n",
        "print(\"Norm. dTree ......... R2:\", round(metrics.r2_score(test_sln, norm_dtree_preds),2))\n",
        "print(\"Norm. Rand. Forest .. R2:\", round(metrics.r2_score(test_sln, norm_rand_forest_preds),2))"
      ],
      "metadata": {
        "colab": {
          "base_uri": "https://localhost:8080/"
        },
        "id": "DV4EJAYlbHS5",
        "outputId": "987d5000-47d5-43c1-ed3d-81bd8503a8c9"
      },
      "execution_count": null,
      "outputs": [
        {
          "output_type": "stream",
          "name": "stdout",
          "text": [
            "Small kNN ........... R2: 0.16\n",
            "Large kNN ........... R2: 0.32\n",
            "Default dTree ....... R2: 0.31\n",
            "Small dTree ......... R2: 0.46\n",
            "Rand. Forest (100) .. R2: 0.65\n",
            "Rand. Forest (50) ... R2: 0.65\n",
            "Norm. kNN ........... R2: 0.56\n",
            "Norm. dTree ......... R2: 0.32\n",
            "Norm. Rand. Forest .. R2: 0.65\n"
          ]
        }
      ]
    },
    {
      "cell_type": "markdown",
      "metadata": {
        "id": "28SLxo80PckN"
      },
      "source": [
        "## Part 3:\n",
        "**3.)**Use a Markup cell to answer the following questions:\n",
        "* What algorithm performed better? w-kNN, Decision Trees, or Random Forests? Why do you think this was the case?\n",
        "* What effect did normalizing the data have on your results? Explain. "
      ]
    },
    {
      "cell_type": "markdown",
      "source": [
        "Random forest with default setting of 100 trees performed the best in terms of R2 score but it was significantly slower than the rest, particularly in fitting the model. I think it has a better error rate for the same reason it's slower. It has to do 100 regression trees and then calculate the predictions based off all of those trees. I suspect when most of the data is on a continous scale and the target is also regression, kNN algorithm has the hardest time predicting and decision tree does better, like in this case, then you just get more trees involved giving you slightly different predictions and the average of those is going to get you a better overall prediction.\n",
        "\n",
        "The greatest effect was on kNN where it went from an R2 score of .16 to .56. I think before the normalization the there were some predictors that were on a much bigger scale, such as duration and tempo or, to a lesser extent, loudness and key. These predictors would have more of a weight in calculating distance between neighbors and would change the predictions."
      ],
      "metadata": {
        "id": "k6jQ0wvgCKWA"
      }
    },
    {
      "cell_type": "code",
      "source": [
        "train_data.max()-train_data.min()"
      ],
      "metadata": {
        "colab": {
          "base_uri": "https://localhost:8080/"
        },
        "id": "ujRXN9KxEpHo",
        "outputId": "a03e4dba-8c9e-4f78-bd93-59cc7e471b73"
      },
      "execution_count": null,
      "outputs": [
        {
          "output_type": "execute_result",
          "data": {
            "text/plain": [
              "energy                   0.999757\n",
              "key                     11.000000\n",
              "loudness                36.077000\n",
              "speechiness              0.923300\n",
              "acousticness             0.987999\n",
              "instrumentalness         0.989000\n",
              "liveness                 0.977300\n",
              "valence                  0.969300\n",
              "tempo                  162.265000\n",
              "duration_ms         887452.000000\n",
              "dtype: float64"
            ]
          },
          "metadata": {},
          "execution_count": 311
        }
      ]
    },
    {
      "cell_type": "code",
      "source": [
        "norm_train_data.max()-norm_train_data.min()"
      ],
      "metadata": {
        "colab": {
          "base_uri": "https://localhost:8080/"
        },
        "id": "N4evmHEkLbk2",
        "outputId": "8640e366-7d7a-4003-c4d4-4bafcc4100bf"
      },
      "execution_count": null,
      "outputs": [
        {
          "output_type": "execute_result",
          "data": {
            "text/plain": [
              "energy               5.449199\n",
              "key                  2.997841\n",
              "loudness            12.300474\n",
              "speechiness          7.302606\n",
              "acousticness         5.777840\n",
              "instrumentalness     2.665328\n",
              "liveness             5.562374\n",
              "valence              4.165872\n",
              "tempo                6.815648\n",
              "duration_ms          8.620749\n",
              "dtype: float64"
            ]
          },
          "metadata": {},
          "execution_count": 312
        }
      ]
    }
  ]
}